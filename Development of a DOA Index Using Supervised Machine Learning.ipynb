{
 "cells": [
  {
   "cell_type": "markdown",
   "id": "9a9bb047-886b-4967-861b-7c5090e9c346",
   "metadata": {},
   "source": [
    "# Data Loading and Preprocessing"
   ]
  },
  {
   "cell_type": "code",
   "execution_count": null,
   "id": "b755cbbb-9969-4c13-a545-7fe1c2312f5d",
   "metadata": {},
   "outputs": [],
   "source": [
    "import pandas as pd\n",
    "\n",
    "# Path to your Excel file\n",
    "file_path = 'Project data set 1 (for reports 1 and 3) .xlsx'\n",
    "\n",
    "# Load the Excel file\n",
    "excel_file = pd.ExcelFile(file_path)\n",
    "\n",
    "# Create lists to store data for combined-1 and combined-2\n",
    "combined_1_data = []\n",
    "combined_2_data = []\n",
    "\n",
    "# Get the first 12 sheets for combined-1\n",
    "for sheet in excel_file.sheet_names[:12]:  # First 12 sheets\n",
    "    sheet_data = pd.read_excel(excel_file, sheet_name=sheet)  # Read each sheet\n",
    "    combined_1_data.append(sheet_data)\n",
    "\n",
    "# Get the next 5 sheets for combined-2\n",
    "for sheet in excel_file.sheet_names[12:17]:  # Next 5 sheets\n",
    "    sheet_data = pd.read_excel(excel_file, sheet_name=sheet)  # Read each sheet\n",
    "    combined_2_data.append(sheet_data)\n",
    "\n",
    "# Concatenate data into two DataFrames\n",
    "combined_Train = pd.concat(combined_1_data)\n",
    "combined_Test = pd.concat(combined_2_data)\n",
    "\n",
    "# Save the combined data into two new Excel files\n",
    "combined_Train.to_excel('combined_Train.xlsx', index=False)\n",
    "combined_Test.to_excel('combined_Test.xlsx', index=False)\n",
    "\n",
    "# Display the first few rows of both datasets\n",
    "print(\"combined_Train Data:\")\n",
    "print(combined_Train.head())\n",
    "\n",
    "print(\"\\ncombined_Test Data:\")\n",
    "print(combined_Test.head())"
   ]
  },
  {
   "cell_type": "markdown",
   "id": "3b37f8b2-7d00-427d-a140-fca8f5aa7172",
   "metadata": {},
   "source": [
    "# Summary Statistics"
   ]
  },
  {
   "cell_type": "code",
   "execution_count": null,
   "id": "bb546c81-fff8-40ef-90d1-bdb5dda7ac3d",
   "metadata": {},
   "outputs": [],
   "source": [
    "# Train Data\n",
    "print(combined_Train.describe())  "
   ]
  },
  {
   "cell_type": "code",
   "execution_count": null,
   "id": "9b3059fc-24e3-4961-a80c-61bed6352410",
   "metadata": {},
   "outputs": [],
   "source": [
    "#Test Data\n",
    "print(combined_Test.describe()) "
   ]
  },
  {
   "cell_type": "markdown",
   "id": "d33ba483-cb33-4ff3-b10d-0ab71f3bee71",
   "metadata": {},
   "source": [
    "# Correlation Matrix"
   ]
  },
  {
   "cell_type": "code",
   "execution_count": null,
   "id": "05e89bff-86f4-463f-a684-e4c6dd232ca7",
   "metadata": {},
   "outputs": [],
   "source": [
    "import matplotlib.pyplot as plt\n",
    "import seaborn as sns\n",
    "sns.heatmap(combined_Train.corr(), annot=True, cmap='coolwarm', fmt=\".2f\")\n",
    "plt.title('Correlation Matrix')\n",
    "plt.show()"
   ]
  },
  {
   "cell_type": "markdown",
   "id": "ccf410de-201a-42f7-a0be-e5e01418b9ca",
   "metadata": {},
   "source": [
    "# Feature Selection"
   ]
  },
  {
   "cell_type": "code",
   "execution_count": null,
   "id": "2d5b5ca7-7317-461f-abfe-2cad74826cf2",
   "metadata": {},
   "outputs": [],
   "source": [
    "from sklearn.model_selection import train_test_split\n",
    "from sklearn.ensemble import RandomForestRegressor\n",
    "from sklearn.linear_model import LinearRegression\n",
    "from sklearn.preprocessing import StandardScaler\n",
    "\n",
    "# Splitting the data into training and testing sets\n",
    "x_train = combined_Train.drop('BIS', axis=1)\n",
    "y_train = combined_Train['BIS']\n",
    "x_test = combined_Test.drop('BIS', axis=1)\n",
    "y_test = combined_Test['BIS']\n",
    "\n",
    "# Standardizing the features\n",
    "scaler = StandardScaler()\n",
    "x_train_scaled = scaler.fit_transform(x_train)\n",
    "x_test_scaled = scaler.transform(x_test)\n",
    "\n",
    "# Random Forest for feature importance\n",
    "rf = RandomForestRegressor(n_estimators=100, random_state=42)\n",
    "rf.fit(x_train_scaled, y_train)\n",
    "rf_importances = rf.feature_importances_\n",
    "\n",
    "\n",
    "# Displaying feature importances and linear regresssion coefficients\n",
    "features = pd.DataFrame({\n",
    "    'Feature': x_train.columns,\n",
    "    'RandomForest Importance': rf_importances,\n",
    "})\n",
    "\n",
    "# Display the feature importance and coefficients\n",
    "print(features)"
   ]
  },
  {
   "cell_type": "markdown",
   "id": "de36c10b",
   "metadata": {},
   "source": [
    "# Random Forest Feature Importance Plot"
   ]
  },
  {
   "cell_type": "code",
   "execution_count": null,
   "id": "49d9787c-de4e-40af-ab29-74d38fec5bbb",
   "metadata": {},
   "outputs": [],
   "source": [
    "import matplotlib.pyplot as plt\n",
    "import seaborn as sns\n",
    "\n",
    "features_rf = features.drop(columns='LinearRegression Coefficients')\n",
    "features_rf = features_rf.sort_values(by='RandomForest Importance', ascending=False)\n",
    "\n",
    "plt.figure(figsize=(10, 6))\n",
    "sns.barplot(x='RandomForest Importance', y='Feature', data=features_rf)\n",
    "plt.title('Feature Importances from Random Forest')\n",
    "plt.show()"
   ]
  },
  {
   "cell_type": "markdown",
   "id": "e49fadaf-1c9a-4bfb-b89a-53dd83d2e3c5",
   "metadata": {},
   "source": [
    "# Moldel Training and Prediction"
   ]
  },
  {
   "cell_type": "markdown",
   "id": "fb6da4ba",
   "metadata": {},
   "source": [
    "# Random Forest and Linear Regression"
   ]
  },
  {
   "cell_type": "code",
   "execution_count": null,
   "id": "c705bf63-6386-40e7-951e-765043709386",
   "metadata": {},
   "outputs": [],
   "source": [
    "# Random Forest\n",
    "rf_model = RandomForestRegressor(n_estimators=100, random_state=42)\n",
    "rf_model.fit(x_train_scaled[:, [0, 3, 4, 6]], y_train)\n",
    "rf_predictions = rf_model.predict(x_test_scaled[:, [0, 3, 4, 6]])"
   ]
  },
  {
   "cell_type": "code",
   "execution_count": null,
   "id": "c41ec84c",
   "metadata": {},
   "outputs": [],
   "source": [
    "#Linear Regression\n",
    "lr_model = LinearRegression()\n",
    "lr_model.fit(x_train_scaled[:, [0, 3, 4, 6]], y_train)\n",
    "lr_predictions = lr_model.predict(x_test_scaled[:, [0, 3, 4, 6]])\n",
    "\n",
    "# Accessing the coefficients and intercept of the model\n",
    "coefficients = lr_model.coef_\n",
    "intercept = lr_model.intercept_\n",
    "\n",
    "# Displaying feature importances and linear regresssion coefficients\n",
    "linearRegression_model = pd.DataFrame({\n",
    "    'Feature': x_train.columns[[0, 3, 4, 6]],\n",
    "    'Coefficients': coefficients\n",
    "})\n",
    "\n",
    "print (linearRegression_model)"
   ]
  },
  {
   "cell_type": "markdown",
   "id": "ce85ee4a",
   "metadata": {},
   "source": [
    "# Final Model"
   ]
  },
  {
   "cell_type": "code",
   "execution_count": null,
   "id": "8a770012",
   "metadata": {},
   "outputs": [],
   "source": []
  },
  {
   "cell_type": "code",
   "execution_count": null,
   "id": "4988c552",
   "metadata": {},
   "outputs": [],
   "source": []
  },
  {
   "cell_type": "markdown",
   "id": "c5ee2d0c",
   "metadata": {},
   "source": [
    "# Model Evaluation"
   ]
  },
  {
   "cell_type": "code",
   "execution_count": null,
   "id": "be50a0d3-c476-4fd5-9eed-8a0f11fa1081",
   "metadata": {},
   "outputs": [],
   "source": [
    "from sklearn.metrics import mean_squared_error, r2_score\n",
    "from scipy.stats import pearsonr\n",
    "\n",
    "#Evaluating Random Forest Model\n",
    "\n",
    "rf_mse = mean_squared_error(y_test, rf_predictions)\n",
    "rf_r2 = r2_score(y_test, rf_predictions)\n",
    "rf_pearson = pearsonr(y_test, rf_predictions)[0]\n",
    "\n",
    "print (rf_mse)\n",
    "print (rf_r2)\n",
    "print (rf_pearson)"
   ]
  },
  {
   "cell_type": "code",
   "execution_count": null,
   "id": "ea946e48-3d08-4e73-b127-fc7f3ce5d45f",
   "metadata": {},
   "outputs": [],
   "source": [
    "#Evaluating Linear Regression Model\n",
    "\n",
    "lr_mse = mean_squared_error(y_test, lr_predictions)\n",
    "lr_r2 = r2_score(y_test, lr_predictions)\n",
    "lr_pearson = pearsonr(y_test, lr_predictions)[0]\n",
    "\n",
    "print (lr_mse)\n",
    "print (lr_r2)\n",
    "print (lr_pearson)"
   ]
  },
  {
   "cell_type": "markdown",
   "id": "643f235f",
   "metadata": {},
   "source": [
    "# Scatter Plots of Predictions vs. Actual Values"
   ]
  },
  {
   "cell_type": "code",
   "execution_count": null,
   "id": "e942cce2-dcb9-4015-b123-a395b5325906",
   "metadata": {},
   "outputs": [],
   "source": [
    "#Scatter Plots of Predictions vs. Actual Values\n",
    "#Random Forest\n",
    "plt.figure(figsize=(12, 6))\n",
    "plt.scatter(y_test, rf_predictions, color='blue', alpha=0.5, label='Random Forest')\n",
    "plt.plot([y_test.min(), y_test.max()], [y_test.min(), y_test.max()], 'k--', lw=2)\n",
    "plt.xlabel('BIS Index')\n",
    "plt.ylabel('New Index')\n",
    "plt.title('BIS Index vs. New Index')\n",
    "plt.legend()\n",
    "plt.show()"
   ]
  },
  {
   "cell_type": "code",
   "execution_count": null,
   "id": "0121de16-6119-4c63-9a7a-8220ca2885f0",
   "metadata": {},
   "outputs": [],
   "source": [
    "#Scatter Plots of Predictions vs. Actual Values\n",
    "#Linear Regression\n",
    "plt.figure(figsize=(12, 6))\n",
    "plt.scatter(y_test, lr_predictions, color='green', alpha=0.5, label='Linear Regression')\n",
    "plt.plot([y_test.min(), y_test.max()], [y_test.min(), y_test.max()], 'k--', lw=2)\n",
    "plt.xlabel('BIS Index')\n",
    "plt.ylabel('New Index')\n",
    "plt.title('BIS Index vs. New Index')\n",
    "plt.legend()\n",
    "plt.show()"
   ]
  },
  {
   "cell_type": "markdown",
   "id": "177b1a97-6a1e-4cea-9ff4-488ea956479f",
   "metadata": {},
   "source": [
    "# Bland-Altman Plots"
   ]
  },
  {
   "cell_type": "code",
   "execution_count": null,
   "id": "e6d79034-0a17-4777-a34b-159afdedb0de",
   "metadata": {},
   "outputs": [],
   "source": [
    "import numpy as np\n",
    "def bland_altman_plot(data1, data2, title):\n",
    "    mean = np.mean([data1, data2], axis=0)\n",
    "    diff = data1 - data2\n",
    "    md = np.mean(diff)\n",
    "    sd = np.std(diff)\n",
    "\n",
    "    plt.figure(figsize=(10, 5))\n",
    "    plt.scatter(mean, diff, color='blue')\n",
    "    plt.axhline(md, color='gray', linestyle='--')\n",
    "    plt.axhline(md + 1.96*sd, color='red', linestyle='--')\n",
    "    plt.axhline(md - 1.96*sd, color='red', linestyle='--')\n",
    "    plt.title(title)\n",
    "    plt.xlabel('Mean of Two Measurements')\n",
    "    plt.ylabel('Difference Between Two Measurements')\n",
    "    plt.show()"
   ]
  },
  {
   "cell_type": "code",
   "execution_count": null,
   "id": "87b2ab0d-c7f2-41c9-8669-a74859548c0e",
   "metadata": {},
   "outputs": [],
   "source": [
    "#Bland-Altman Plot for Random Forest Model\n",
    "bland_altman_plot(y_test, rf_predictions, 'Bland-Altman Plot for Random Forest')"
   ]
  },
  {
   "cell_type": "code",
   "execution_count": null,
   "id": "dcfa52d3-1336-43d1-b98b-33e34f4b26bc",
   "metadata": {},
   "outputs": [],
   "source": [
    "#Bland-Altman Plot for Linear Regression Model\n",
    "bland_altman_plot(y_test, lr_predictions, 'Bland-Altman Plot for Linear Regression')"
   ]
  }
 ],
 "metadata": {
  "kernelspec": {
   "display_name": "Python 3 (ipykernel)",
   "language": "python",
   "name": "python3"
  },
  "language_info": {
   "codemirror_mode": {
    "name": "ipython",
    "version": 3
   },
   "file_extension": ".py",
   "mimetype": "text/x-python",
   "name": "python",
   "nbconvert_exporter": "python",
   "pygments_lexer": "ipython3",
   "version": "3.11.5"
  }
 },
 "nbformat": 4,
 "nbformat_minor": 5
}
